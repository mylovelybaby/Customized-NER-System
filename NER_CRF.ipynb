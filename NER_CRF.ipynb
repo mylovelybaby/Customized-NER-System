{
 "cells": [
  {
   "cell_type": "code",
   "execution_count": 170,
   "metadata": {
    "collapsed": true
   },
   "outputs": [],
   "source": [
    "import pycrfsuite\n",
    "import codecs\n",
    "import pandas as pd\n",
    "import numpy as np\n",
    "import os\n",
    "from sklearn.metrics import classification_report, confusion_matrix\n",
    "from sklearn.preprocessing import LabelBinarizer\n",
    "import sklearn\n",
    "from itertools import chain\n",
    "from pyltp import Postagger\n",
    "from pyltp import Segmentor"
   ]
  },
  {
   "cell_type": "code",
   "execution_count": 229,
   "metadata": {},
   "outputs": [],
   "source": [
    "# read sentance, read label, segment and pos tag the sentence\n",
    "def process1sent(labelsfilename,sentfilename,labelsChn2Eng):\n",
    "    postagger = Postagger() # 初始化实例\n",
    "    postagger.load(\"/home/user/Python_notebooks/chinese_nlp/ltp-cws/ltp_data_v3.4.0/pos.model\")  # 加载模型\n",
    "    segmentor = Segmentor()\n",
    "    segmentor.load(\"/home/user/Python_notebooks/chinese_nlp/ltp-cws/ltp_data_v3.4.0/cws.model\")\n",
    "\n",
    "    #segment and pos tag\n",
    "    with open(sentfilename,'r') as f:\n",
    "        sent = f.read()\n",
    "    sent = sent.replace('\\n','')\n",
    "    words = list(segmentor.segment(sent))\n",
    "    #print(\" \".join(words))\n",
    "    segmentor.release()\n",
    "\n",
    "    postags = list(postagger.postag(words))  # 词性标注\n",
    "    #print(' '.join(postags))\n",
    "    postagger.release()  # 释放模型\n",
    "    \n",
    "    # assign pos tag to each character\n",
    "    chars = []\n",
    "    postags_c = []\n",
    "    for word,postag in zip(words,postags):\n",
    "        for char in word:\n",
    "            chars.append(char)\n",
    "            postags_c.append(postag)\n",
    "    if (len(chars) != (len(sent))):\n",
    "        print(sent)\n",
    "        print(''.join(chars))\n",
    "        return(None)\n",
    "    \n",
    "    # associate words, postags and labels\n",
    "    sent_list = []\n",
    "    if (os.path.getsize(labelsfilename) == 0): # no labels in the sentence\n",
    "        for char,postag in zip(chars,postags_c):\n",
    "            sent_list.append((char,postag,'O'))\n",
    "    else:\n",
    "        #read labels\n",
    "        labels = pd.read_csv(labelsfilename,sep='\\t',header=None)\n",
    "        labels_c = ['O'] * len(chars)\n",
    "        for row in range(0,labels.shape[0]):\n",
    "            s_idx = labels.iloc[row][1]\n",
    "            e_idx = labels.iloc[row][2]\n",
    "            label_chn = labels.iloc[row][3]\n",
    "            label_eng = labelsChn2Eng[label_chn]\n",
    "            if s_idx == e_idx:\n",
    "                labels_c[s_idx] = 'S_' + label_eng\n",
    "            else:\n",
    "                labels_c[s_idx] = 'B_' + label_eng\n",
    "                labels_c[s_idx+1:e_idx] = ['I_' + label_eng] * (e_idx-s_idx-1)\n",
    "                labels_c[e_idx] = 'E_' + label_eng\n",
    "                \n",
    "        for char,postag,label in zip(chars,postags_c,labels_c):\n",
    "            sent_list.append((char,postag,label))\n",
    "    return sent_list"
   ]
  },
  {
   "cell_type": "code",
   "execution_count": 196,
   "metadata": {
    "scrolled": true
   },
   "outputs": [
    {
     "ename": "ArgumentError",
     "evalue": "Python argument types in\n    Segmentor.segment(Segmentor, list)\ndid not match C++ signature:\n    segment(Segmentor {lvalue}, std::__cxx11::basic_string<char, std::char_traits<char>, std::allocator<char> >)",
     "output_type": "error",
     "traceback": [
      "\u001b[0;31m---------------------------------------------------------------------------\u001b[0m",
      "\u001b[0;31mArgumentError\u001b[0m                             Traceback (most recent call last)",
      "\u001b[0;32m<ipython-input-196-e98f08bb13f7>\u001b[0m in \u001b[0;36m<module>\u001b[0;34m()\u001b[0m\n\u001b[1;32m      6\u001b[0m     \u001b[0mlabelsfilename\u001b[0m \u001b[0;34m=\u001b[0m \u001b[0mfilepath\u001b[0m \u001b[0;34m+\u001b[0m \u001b[0;34m'一般项目-'\u001b[0m\u001b[0;34m+\u001b[0m\u001b[0mstr\u001b[0m\u001b[0;34m(\u001b[0m\u001b[0mi\u001b[0m\u001b[0;34m)\u001b[0m\u001b[0;34m+\u001b[0m\u001b[0;34m'.txt'\u001b[0m\u001b[0;34m\u001b[0m\u001b[0m\n\u001b[1;32m      7\u001b[0m     \u001b[0msentfilename\u001b[0m \u001b[0;34m=\u001b[0m \u001b[0mfilepath\u001b[0m \u001b[0;34m+\u001b[0m \u001b[0;34m'一般项目-'\u001b[0m\u001b[0;34m+\u001b[0m\u001b[0mstr\u001b[0m\u001b[0;34m(\u001b[0m\u001b[0mi\u001b[0m\u001b[0;34m)\u001b[0m\u001b[0;34m+\u001b[0m\u001b[0;34m'.txtoriginal.txt'\u001b[0m\u001b[0;34m\u001b[0m\u001b[0m\n\u001b[0;32m----> 8\u001b[0;31m     \u001b[0mtrain_sent\u001b[0m\u001b[0;34m.\u001b[0m\u001b[0mappend\u001b[0m\u001b[0;34m(\u001b[0m\u001b[0mprocess1sent\u001b[0m\u001b[0;34m(\u001b[0m\u001b[0mlabelsfilename\u001b[0m\u001b[0;34m,\u001b[0m\u001b[0msentfilename\u001b[0m\u001b[0;34m,\u001b[0m\u001b[0mlabelsChn2Eng\u001b[0m\u001b[0;34m)\u001b[0m\u001b[0;34m)\u001b[0m\u001b[0;34m\u001b[0m\u001b[0m\n\u001b[0m\u001b[1;32m      9\u001b[0m \u001b[0mtrain_sent\u001b[0m\u001b[0;34m[\u001b[0m\u001b[0;36m0\u001b[0m\u001b[0;34m]\u001b[0m\u001b[0;34m\u001b[0m\u001b[0m\n",
      "\u001b[0;32m<ipython-input-193-b560c0060d3f>\u001b[0m in \u001b[0;36mprocess1sent\u001b[0;34m(labelsfilename, sentfilename, labelsChn2Eng)\u001b[0m\n\u001b[1;32m      8\u001b[0m     \u001b[0;31m#segment and pos tag\u001b[0m\u001b[0;34m\u001b[0m\u001b[0;34m\u001b[0m\u001b[0m\n\u001b[1;32m      9\u001b[0m \u001b[0;34m\u001b[0m\u001b[0m\n\u001b[0;32m---> 10\u001b[0;31m     \u001b[0mwords\u001b[0m \u001b[0;34m=\u001b[0m \u001b[0mlist\u001b[0m\u001b[0;34m(\u001b[0m\u001b[0msegmentor\u001b[0m\u001b[0;34m.\u001b[0m\u001b[0msegment\u001b[0m\u001b[0;34m(\u001b[0m\u001b[0msent\u001b[0m\u001b[0;34m)\u001b[0m\u001b[0;34m)\u001b[0m\u001b[0;34m\u001b[0m\u001b[0m\n\u001b[0m\u001b[1;32m     11\u001b[0m     \u001b[0;31m#print(\" \".join(words))\u001b[0m\u001b[0;34m\u001b[0m\u001b[0;34m\u001b[0m\u001b[0m\n\u001b[1;32m     12\u001b[0m     \u001b[0msegmentor\u001b[0m\u001b[0;34m.\u001b[0m\u001b[0mrelease\u001b[0m\u001b[0;34m(\u001b[0m\u001b[0;34m)\u001b[0m\u001b[0;34m\u001b[0m\u001b[0m\n",
      "\u001b[0;31mArgumentError\u001b[0m: Python argument types in\n    Segmentor.segment(Segmentor, list)\ndid not match C++ signature:\n    segment(Segmentor {lvalue}, std::__cxx11::basic_string<char, std::char_traits<char>, std::allocator<char> >)"
     ]
    }
   ],
   "source": [
    "labelsChn2Eng = {'检查和检验':'check','疾病和诊断':'disease&diagnose','症状和体征':'symptom','身体部位':'body'}\n",
    "filepath = '/home/user/Python_notebooks/chinese_nlp/ner-data/CCKS2017/CCKS2017_dataset/case_of_illness/data/trainingset 1-100/一般项目/'\n",
    "\n",
    "train_sent = []\n",
    "for i in range(1,101):   \n",
    "    labelsfilename = filepath + '一般项目-'+str(i)+'.txt'\n",
    "    sentfilename = filepath + '一般项目-'+str(i)+'.txtoriginal.txt'\n",
    "    train_sent.append(process1sent(labelsfilename,sentfilename,labelsChn2Eng))\n",
    "train_sent[0]"
   ]
  },
  {
   "cell_type": "code",
   "execution_count": 230,
   "metadata": {},
   "outputs": [
    {
     "name": "stdout",
     "output_type": "stream",
     "text": [
      "1\n",
      "2\n",
      "一般情况可，心肺未见异常。腹平坦，未见胃肠型及蠕动波。上腹部压痛阳性，无反跳痛及肌紧张。肝脾肋下未触及，全腹未触及 异常包块。腹叩移动性浊音阴性，肠鸣音正常，未闻及高调肠鸣音及气过水声。\n",
      "一般情况可，心肺未见异常。腹平坦，未见胃肠型及蠕动波。上腹部压痛阳性，无反跳痛及肌紧张。肝脾肋下未触及，全腹未触及异常包块。腹叩移动性浊音阴性，肠鸣音正常，未闻及高调肠鸣音及气过水声。\n",
      "3\n",
      "4\n",
      "5\n",
      "6\n",
      "7\n",
      "8\n",
      "9\n",
      "10\n",
      "11\n",
      "12\n",
      "13\n",
      "14\n",
      "15\n",
      "16\n",
      "17\n",
      "18\n",
      "19\n",
      "20\n",
      "患者神志清，精神尚好，无明显头痛、头晕，无恶心，无抽搐，无发热，二便正常。查体：头部创口 敷料包扎固定好，无渗出，双眼瞳孔对光反射灵敏，心肺腹听诊未见明显异常，四肢活动无异常，病理征未引出。患者病情好转，要求今日出院。\n",
      "患者神志清，精神尚好，无明显头痛、头晕，无恶心，无抽搐，无发热，二便正常。查体：头部创口敷料包扎固定好，无渗出，双眼瞳孔对光反射灵敏，心肺腹听诊未见明显异常，四肢活动无异常，病理征未引出。患者病情好转，要求今日出院。\n",
      "21\n",
      "22\n",
      "23\n",
      "24\n",
      "25\n",
      "26\n",
      "27\n",
      "28\n",
      "29\n",
      "30\n",
      "31\n",
      "32\n",
      "查体：T：36.5℃、P：78次/分、R：18次/分、BP130/80 mmHg，体型偏瘦，神志清楚，语言流利，表情自然，步入病室，自动体位，查体合作。心肺腹阴性，腹平坦，肝脾肋下未及，全腹未触及异常包块，无压痛反跳痛及肌紧张。腹叩移动性浊音阴性；肠鸣音正常，未闻及高调肠鸣音及气过水声。脊柱生理弯曲正常，无侧弯及后突畸形，各椎体棘突无压痛及叩击痛。脊肋角无隆起，双肾区叩击痛阴性。肛门外生殖无畸形。四肢无畸形，各关节活动正常；肌力肌张力正常；肱二、三肌腱反射，跟膝腱反射正常存在，巴氏等病理反射征未引出。右腹股沟部无包块，局部切口愈合良好，无红肿渗出。双侧睾丸无缺如，大小正常。窗体底  窗体底端\n",
      "查体：T：36.5℃、P：78次/分、R：18次/分、BP130/80mmHg，体型偏瘦，神志清楚，语言流利，表情自然，步入病室，自动体位，查体合作。心肺腹阴性，腹平坦，肝脾肋下未及，全腹未触及异常包块，无压痛反跳痛及肌紧张。腹叩移动性浊音阴性；肠鸣音正常，未闻及高调肠鸣音及气过水声。脊柱生理弯曲正常，无侧弯及后突畸形，各椎体棘突无压痛及叩击痛。脊肋角无隆起，双肾区叩击痛阴性。肛门外生殖无畸形。四肢无畸形，各关节活动正常；肌力肌张力正常；肱二、三肌腱反射，跟膝腱反射正常存在，巴氏等病理反射征未引出。右腹股沟部无包块，局部切口愈合良好，无红肿渗出。双侧睾丸无缺如，大小正常。窗体底窗体底端\n",
      "33\n",
      "34\n",
      "35\n",
      "36\n",
      "37\n",
      "38\n",
      "39\n",
      "40\n",
      "41\n",
      "42\n",
      "43\n",
      "44\n",
      "45\n",
      "46\n",
      "47\n",
      "48\n",
      "49\n",
      "50\n",
      "51\n",
      "52\n",
      "53\n",
      "54\n",
      "55\n",
      "56\n",
      "57\n",
      "58\n",
      "59\n",
      "60\n",
      "61\n",
      "患者诉头痛，头晕。胸部，背部疼痛。无发热，无恶心呕吐，无意识障碍。饮食及二便正常。查体：血压140/90mmHg。颈软，无抵抗。气管居中，甲状腺无肿大。胸廓对称无畸形胸骨中上段略肿胀，触痛，呼吸动度两侧均匀等，无增强及减弱双侧语颤无增强及减弱，未触及皮下捻发音，双肺叩音清，肺肝相对浊音界位于右侧锁骨中线第Ⅴ肋间，双肺呼吸音清，未闻及干湿性罗音。心前区无隆起，未触及震颤，叩心界不大，心率84次/分，律齐，各瓣膜听诊区未闻及杂音。腹部平坦，未见胃肠型及蠕动波，无腹壁静脉曲张。腹软，肝脾未触及肿大，腹部无压痛，无反跳痛及肌紧张。腹部未触及包块。叩鼓音，移动性浊音阴性。肠鸣音正常，无亢进（4次/分） 。脊柱四肢无畸形，胸椎中上段压痛，活动受限，余活动自如。四肢肌力肌张力正常。生理反射存在，病理反射未引出。头部伤口已拆线，一期愈合。\n",
      "患者诉头痛，头晕。胸部，背部疼痛。无发热，无恶心呕吐，无意识障碍。饮食及二便正常。查体：血压140/90mmHg。颈软，无抵抗。气管居中，甲状腺无肿大。胸廓对称无畸形胸骨中上段略肿胀，触痛，呼吸动度两侧均匀等，无增强及减弱双侧语颤无增强及减弱，未触及皮下捻发音，双肺叩音清，肺肝相对浊音界位于右侧锁骨中线第Ⅴ肋间，双肺呼吸音清，未闻及干湿性罗音。心前区无隆起，未触及震颤，叩心界不大，心率84次/分，律齐，各瓣膜听诊区未闻及杂音。腹部平坦，未见胃肠型及蠕动波，无腹壁静脉曲张。腹软，肝脾未触及肿大，腹部无压痛，无反跳痛及肌紧张。腹部未触及包块。叩鼓音，移动性浊音阴性。肠鸣音正常，无亢进（4次/分）。脊柱四肢无畸形，胸椎中上段压痛，活动受限，余活动自如。四肢肌力肌张力正常。生理反射存在，病理反射未引出。头部伤口已拆线，一期愈合。\n",
      "62\n",
      "63\n",
      "64\n",
      "65\n",
      "66\n",
      "67\n",
      "68\n",
      "69\n",
      "70\n",
      "71\n",
      "72\n",
      "73\n",
      "74\n",
      "75\n",
      "76\n",
      "77\n",
      "78\n",
      "79\n",
      "80\n",
      "81\n",
      "82\n",
      "83\n",
      "84\n",
      "患者术后第四天，未诉切口疼痛，无发热，无腹痛腹胀，饮食及二便正常。肛门已排气排便，小便正常。查体：T：37℃：双肺呼吸音清晰，未闻及干湿性啰音。腹平软，未见肠形及蠕动波。肝脾未触及，无压痛反跳痛及肌紧张。移动性浊音阴性，肠鸣音正常4次/分。切口无红肿渗出。阴囊无水肿血肿。给予患者停止静点抗生素 ，切口换药，患者要求出院，给予办理。\n",
      "患者术后第四天，未诉切口疼痛，无发热，无腹痛腹胀，饮食及二便正常。肛门已排气排便，小便正常。查体：T：37℃：双肺呼吸音清晰，未闻及干湿性啰音。腹平软，未见肠形及蠕动波。肝脾未触及，无压痛反跳痛及肌紧张。移动性浊音阴性，肠鸣音正常4次/分。切口无红肿渗出。阴囊无水肿血肿。给予患者停止静点抗生素，切口换药，患者要求出院，给予办理。\n",
      "85\n",
      "86\n",
      "87\n",
      "患者精神可，诉偶有肉眼血尿。无发热，无腹痛腹胀，尿量正常，大便正常。生命体征平稳，神清，精神可。颈软，无抵抗。气管居中，双肺呼吸音清，未闻及干湿性罗音。腹部平坦，未见胃肠型及蠕动波，无腹壁静脉曲张。腹软，腹部无压痛，无反跳痛及肌紧张。腹部未触及包块。叩鼓音，移动性浊音阴性。肠鸣音正常，无亢进（4次/分） 。双侧肋脊角对称无隆起，双肾区无叩击痛，未触及肿块。沿输尿管走形无压痛，耻骨上膀胱区无肿胀，无压痛。阴茎为成人型，尿道外口无畸形，无红肿及狭窄，无异常分泌物。两侧阴囊对称，无触痛，双侧睾丸对称，质地中等，无触痛。\n",
      "患者精神可，诉偶有肉眼血尿。无发热，无腹痛腹胀，尿量正常，大便正常。生命体征平稳，神清，精神可。颈软，无抵抗。气管居中，双肺呼吸音清，未闻及干湿性罗音。腹部平坦，未见胃肠型及蠕动波，无腹壁静脉曲张。腹软，腹部无压痛，无反跳痛及肌紧张。腹部未触及包块。叩鼓音，移动性浊音阴性。肠鸣音正常，无亢进（4次/分）。双侧肋脊角对称无隆起，双肾区无叩击痛，未触及肿块。沿输尿管走形无压痛，耻骨上膀胱区无肿胀，无压痛。阴茎为成人型，尿道外口无畸形，无红肿及狭窄，无异常分泌物。两侧阴囊对称，无触痛，双侧睾丸对称，质地中等，无触痛。\n",
      "88\n",
      "89\n",
      "患者无咳嗽、偶咳痰，活动后喘憋、无腹胀，饮食睡眠可，二便正常。查体：BP130/80mmhg，神清语利，精神可，双瞳孔正大等圆对光反射灵敏，口唇无发绀，胸廓呈桶状胸，双肺呼吸音减低，双肺可闻及湿罗音，心脏向右扩大，心率78次/分，心律齐，未闻及早搏，未闻及瓣膜区病理性杂音。腹膨隆，上腹部无压痛，肝脾未触及，无反跳痛及肌紧张，肠鸣音正常存在。颅神经查（-） ，四肢肌力肌张力正常，肱二三头肌及跟膝腱腱反射正常存在，双侧巴氏征阴性\n",
      "患者无咳嗽、偶咳痰，活动后喘憋、无腹胀，饮食睡眠可，二便正常。查体：BP130/80mmhg，神清语利，精神可，双瞳孔正大等圆对光反射灵敏，口唇无发绀，胸廓呈桶状胸，双肺呼吸音减低，双肺可闻及湿罗音，心脏向右扩大，心率78次/分，心律齐，未闻及早搏，未闻及瓣膜区病理性杂音。腹膨隆，上腹部无压痛，肝脾未触及，无反跳痛及肌紧张，肠鸣音正常存在。颅神经查（-），四肢肌力肌张力正常，肱二三头肌及跟膝腱腱反射正常存在，双侧巴氏征阴性\n",
      "90\n",
      "91\n",
      "92\n",
      "93\n",
      "94\n",
      "95\n",
      "96\n",
      "97\n",
      "98\n",
      "99\n",
      "100\n"
     ]
    },
    {
     "data": {
      "text/plain": [
       "[('患', 'n', 'O'),\n",
       " ('者', 'n', 'O'),\n",
       " ('精', 'n', 'O'),\n",
       " ('神', 'n', 'O'),\n",
       " ('状', 'n', 'O'),\n",
       " ('况', 'n', 'O'),\n",
       " ('好', 'a', 'O'),\n",
       " ('，', 'wp', 'O'),\n",
       " ('无', 'v', 'O'),\n",
       " ('发', 'v', 'B_symptom'),\n",
       " ('热', 'v', 'E_symptom'),\n",
       " ('，', 'wp', 'O'),\n",
       " ('诉', 'v', 'O'),\n",
       " ('右', 'v', 'B_body'),\n",
       " ('髋', 'n', 'I_body'),\n",
       " ('部', 'n', 'E_body'),\n",
       " ('疼', 'a', 'B_symptom'),\n",
       " ('痛', 'a', 'E_symptom'),\n",
       " ('，', 'wp', 'O'),\n",
       " ('饮', 'n', 'O'),\n",
       " ('食', 'n', 'O'),\n",
       " ('差', 'a', 'O'),\n",
       " ('，', 'wp', 'O'),\n",
       " ('二', 'm', 'B_body'),\n",
       " ('便', 'd', 'E_body'),\n",
       " ('正', 'a', 'O'),\n",
       " ('常', 'a', 'O'),\n",
       " ('，', 'wp', 'O'),\n",
       " ('查', 'v', 'O'),\n",
       " ('体', 'v', 'O'),\n",
       " ('：', 'wp', 'O'),\n",
       " ('神', 'i', 'O'),\n",
       " ('清', 'i', 'O'),\n",
       " ('，', 'wp', 'O'),\n",
       " ('各', 'r', 'O'),\n",
       " ('项', 'r', 'O'),\n",
       " ('生', 'n', 'O'),\n",
       " ('命', 'n', 'O'),\n",
       " ('体', 'n', 'O'),\n",
       " ('征', 'n', 'O'),\n",
       " ('平', 'a', 'O'),\n",
       " ('稳', 'a', 'O'),\n",
       " ('，', 'wp', 'O'),\n",
       " ('心', 'n', 'B_body'),\n",
       " ('肺', 'n', 'I_body'),\n",
       " ('腹', 'n', 'E_body'),\n",
       " ('查', 'v', 'O'),\n",
       " ('体', 'v', 'O'),\n",
       " ('未', 'd', 'O'),\n",
       " ('见', 'v', 'O'),\n",
       " ('异', 'a', 'O'),\n",
       " ('常', 'a', 'O'),\n",
       " ('。', 'wp', 'O'),\n",
       " ('右', 'nd', 'B_body'),\n",
       " ('髋', 'n', 'I_body'),\n",
       " ('部', 'n', 'E_body'),\n",
       " ('压', 'v', 'B_check'),\n",
       " ('痛', 'a', 'E_check'),\n",
       " ('，', 'wp', 'O'),\n",
       " ('右', 'nd', 'B_body'),\n",
       " ('下', 'nd', 'I_body'),\n",
       " ('肢', 'n', 'E_body'),\n",
       " ('皮', 'n', 'O'),\n",
       " ('牵', 'v', 'O'),\n",
       " ('引', 'v', 'O'),\n",
       " ('固', 'a', 'O'),\n",
       " ('定', 'a', 'O'),\n",
       " ('好', 'a', 'O'),\n",
       " ('，', 'wp', 'O'),\n",
       " ('无', 'v', 'O'),\n",
       " ('松', 'v', 'O'),\n",
       " ('动', 'v', 'O'),\n",
       " ('，', 'wp', 'O'),\n",
       " ('右', 'n', 'B_body'),\n",
       " ('足', 'n', 'I_body'),\n",
       " ('背', 'v', 'I_body'),\n",
       " ('动', 'v', 'I_body'),\n",
       " ('脉', 'n', 'E_body'),\n",
       " ('搏', 'n', 'O'),\n",
       " ('动', 'v', 'O'),\n",
       " ('好', 'a', 'O'),\n",
       " ('，', 'wp', 'O'),\n",
       " ('足', 'a', 'B_body'),\n",
       " ('趾', 'a', 'E_body'),\n",
       " ('感', 'n', 'O'),\n",
       " ('觉', 'n', 'O'),\n",
       " ('运', 'v', 'O'),\n",
       " ('动', 'v', 'O'),\n",
       " ('正', 'a', 'O'),\n",
       " ('常', 'a', 'O'),\n",
       " ('。', 'wp', 'O')]"
      ]
     },
     "execution_count": 230,
     "metadata": {},
     "output_type": "execute_result"
    }
   ],
   "source": [
    "labelsChn2Eng = {'检查和检验':'check','疾病和诊断':'disease&diagnose','症状和体征':'symptom','身体部位':'body','治疗':'treatment'}\n",
    "filepath = '/home/user/Python_notebooks/chinese_nlp/ner-data/CCKS2017/CCKS2017_dataset/case_of_illness/data/trainingset 1-100/出院情况/'\n",
    "\n",
    "train_sent = []\n",
    "for i in range(1,101):   \n",
    "    labelsfilename = filepath + '出院情况-'+str(i)+'.txt'\n",
    "    sentfilename = filepath + '出院情况-'+str(i)+'.txtoriginal.txt'\n",
    "    print(i)\n",
    "    train_sent.append(process1sent(labelsfilename,sentfilename,labelsChn2Eng))\n",
    "train_sent[0]"
   ]
  },
  {
   "cell_type": "code",
   "execution_count": 240,
   "metadata": {},
   "outputs": [
    {
     "data": {
      "text/plain": [
       "93"
      ]
     },
     "execution_count": 240,
     "metadata": {},
     "output_type": "execute_result"
    }
   ],
   "source": [
    "train_sent2 = [item for item in train_sent if item is not None]\n",
    "len(train_sent2)"
   ]
  },
  {
   "cell_type": "code",
   "execution_count": 154,
   "metadata": {},
   "outputs": [],
   "source": [
    "def word2features(sent, i):\n",
    "    word = sent[i][0]\n",
    "    postag = sent[i][1]\n",
    "    features = [\n",
    "        'bias',\n",
    "        'word=' + word,\n",
    "        'word.isdigit=%s' % word.isdigit(),\n",
    "        'postag=' + postag,\n",
    "        'postag[:2]=' + postag[:2],\n",
    "    ]\n",
    "    if i > 0:\n",
    "        word1 = sent[i-1][0]\n",
    "        postag1 = sent[i-1][1]\n",
    "        features.extend([\n",
    "            '-1:word=' + word1,\n",
    "            '-1:word.isdigit=%s' % word1.isdigit(),\n",
    "            '-1:postag=' + postag1,\n",
    "            '-1:postag[:2]=' + postag1[:2],\n",
    "        ])\n",
    "    else:\n",
    "        features.append('BOS')\n",
    "        \n",
    "    if i < len(sent)-1:\n",
    "        word1 = sent[i+1][0]\n",
    "        postag1 = sent[i+1][1]\n",
    "        features.extend([\n",
    "            '+1:word=' + word1,\n",
    "            '+1:word.isdigit=%s' % word1.isdigit(),\n",
    "            '+1:postag=' + postag1,\n",
    "            '+1:postag[:2]=' + postag1[:2],\n",
    "        ])\n",
    "    else:\n",
    "        features.append('EOS')\n",
    "                \n",
    "    return features\n",
    "\n",
    "\n",
    "def sent2features(sent):\n",
    "    return [word2features(sent, i) for i in range(len(sent))]\n",
    "\n",
    "def sent2labels(sent):\n",
    "    return [label for token, postag, label in sent]\n",
    "\n",
    "def sent2tokens(sent):\n",
    "    return [token for token, postag, label in sent]"
   ]
  },
  {
   "cell_type": "code",
   "execution_count": 155,
   "metadata": {},
   "outputs": [
    {
     "data": {
      "text/plain": [
       "['bias',\n",
       " 'word=右',\n",
       " 'word.isdigit=False',\n",
       " 'postag=nd',\n",
       " 'postag[:2]=nd',\n",
       " '-1:word=因',\n",
       " '-1:word.isdigit=False',\n",
       " '-1:postag=n',\n",
       " '-1:postag[:2]=n',\n",
       " '+1:word=髋',\n",
       " '+1:word.isdigit=False',\n",
       " '+1:postag=nd',\n",
       " '+1:postag[:2]=nd']"
      ]
     },
     "execution_count": 155,
     "metadata": {},
     "output_type": "execute_result"
    }
   ],
   "source": [
    "sent2features(train_sent[0])[21]"
   ]
  },
  {
   "cell_type": "code",
   "execution_count": 156,
   "metadata": {},
   "outputs": [
    {
     "name": "stdout",
     "output_type": "stream",
     "text": [
      "CPU times: user 52 ms, sys: 12 ms, total: 64 ms\n",
      "Wall time: 64 ms\n"
     ]
    }
   ],
   "source": [
    "%%time\n",
    "X = [sent2features(s) for s in train_sent]\n",
    "y = [sent2labels(s) for s in train_sent]\n",
    "\n",
    "X_train = X[:80]\n",
    "y_train = y[:80]\n",
    "X_test = X[80:]\n",
    "y_test = y[80:]"
   ]
  },
  {
   "cell_type": "code",
   "execution_count": 160,
   "metadata": {
    "scrolled": false
   },
   "outputs": [],
   "source": [
    "# -*- coding: utf-8 -*-\n",
    "# train the model\n",
    "trainer = pycrfsuite.Trainer(verbose=False)\n",
    "for xseq, yseq in zip(X_train, y_train):\n",
    "    trainer.append(xseq, yseq)"
   ]
  },
  {
   "cell_type": "code",
   "execution_count": 161,
   "metadata": {},
   "outputs": [],
   "source": [
    "trainer.set_params({\n",
    "    'c1': 1.0,   # coefficient for L1 penalty\n",
    "    'c2': 1e-3,  # coefficient for L2 penalty\n",
    "    'max_iterations': 50,  # stop earlier\n",
    "\n",
    "    # include transitions that are possible, but not observed\n",
    "    'feature.possible_transitions': True\n",
    "})"
   ]
  },
  {
   "cell_type": "code",
   "execution_count": 162,
   "metadata": {},
   "outputs": [
    {
     "name": "stdout",
     "output_type": "stream",
     "text": [
      "CPU times: user 544 ms, sys: 0 ns, total: 544 ms\n",
      "Wall time: 542 ms\n"
     ]
    }
   ],
   "source": [
    "%%time\n",
    "trainer.train('ccks.crfsuite')"
   ]
  },
  {
   "cell_type": "code",
   "execution_count": 165,
   "metadata": {},
   "outputs": [
    {
     "name": "stdout",
     "output_type": "stream",
     "text": [
      "沟 可 复 性 肿 物 1 年 于 2 0 1 6 - - 0 8 - - 1 1 0 8 : 4 0 收 入 院\n",
      "\n",
      "Predicted: O O O O B_symptom E_symptom O O O O O O O O O O O O O O O O O O O O O O O\n",
      "Correct:   O O O O B_symptom E_symptom O O O O O O O O O O O O O O O O O O O O O O O\n"
     ]
    }
   ],
   "source": [
    "tagger = pycrfsuite.Tagger()\n",
    "tagger.open('ccks.crfsuite')\n",
    "\n",
    "example_sent = train_sent[83]\n",
    "print(' '.join(sent2tokens(example_sent)), end='\\n\\n')\n",
    "\n",
    "print(\"Predicted:\", ' '.join(tagger.tag(sent2features(example_sent))))\n",
    "print(\"Correct:  \", ' '.join(sent2labels(example_sent)))"
   ]
  },
  {
   "cell_type": "markdown",
   "metadata": {},
   "source": [
    "### Evaluate the model"
   ]
  },
  {
   "cell_type": "code",
   "execution_count": 183,
   "metadata": {
    "collapsed": true
   },
   "outputs": [],
   "source": [
    "def bio_classification_report(y_true, y_pred):\n",
    "    \"\"\"\n",
    "    Classification report for a list of BIO-encoded sequences.\n",
    "    It computes token-level metrics and discards \"O\" labels.\n",
    "    \n",
    "    Note that it requires scikit-learn 0.15+ (or a version from github master)\n",
    "    to calculate averages properly!\n",
    "    \"\"\"\n",
    "    lb = LabelBinarizer()\n",
    "    y_true_combined = lb.fit_transform(list(chain.from_iterable(y_true)))\n",
    "    y_pred_combined = lb.transform(list(chain.from_iterable(y_pred)))\n",
    "    \n",
    "    tagset = set(lb.classes_) - {'O'}\n",
    "    tagset = sorted(tagset, key=lambda tag: tag.split('-', 1)[::-1])\n",
    "    class_indices = {cls: idx for idx, cls in enumerate(lb.classes_)}\n",
    "    \n",
    "    \n",
    "    return classification_report(\n",
    "        y_true_combined,\n",
    "        y_pred_combined,\n",
    "        labels = [class_indices[cls] for cls in tagset],\n",
    "        target_names = tagset,\n",
    "    )"
   ]
  },
  {
   "cell_type": "code",
   "execution_count": 182,
   "metadata": {},
   "outputs": [
    {
     "name": "stdout",
     "output_type": "stream",
     "text": [
      "{'E_symptom', 'B_body', 'E_body', 'S_symptom', 'O', 'I_body', 'B_symptom'}\n",
      "             precision    recall  f1-score   support\n",
      "\n",
      "     B_body       0.80      0.89      0.84         9\n",
      "  B_symptom       1.00      0.80      0.89        25\n",
      "     E_body       0.90      1.00      0.95         9\n",
      "  E_symptom       1.00      0.80      0.89        25\n",
      "     I_body       1.00      0.80      0.89         5\n",
      "  S_symptom       0.00      0.00      0.00         3\n",
      "\n",
      "avg / total       0.93      0.80      0.86        76\n",
      "\n"
     ]
    },
    {
     "name": "stderr",
     "output_type": "stream",
     "text": [
      "/home/user/anaconda3/lib/python3.6/site-packages/sklearn/metrics/classification.py:1135: UndefinedMetricWarning: Precision and F-score are ill-defined and being set to 0.0 in labels with no predicted samples.\n",
      "  'precision', 'predicted', average, warn_for)\n"
     ]
    }
   ],
   "source": [
    "print(bio_classification_report(y_test, y_pred))"
   ]
  },
  {
   "cell_type": "code",
   "execution_count": 172,
   "metadata": {},
   "outputs": [
    {
     "name": "stdout",
     "output_type": "stream",
     "text": [
      "CPU times: user 20 ms, sys: 0 ns, total: 20 ms\n",
      "Wall time: 15.9 ms\n"
     ]
    }
   ],
   "source": [
    "%%time\n",
    "y_pred = [tagger.tag(xseq) for xseq in X_test]\n",
    "y_pred"
   ]
  },
  {
   "cell_type": "code",
   "execution_count": 145,
   "metadata": {},
   "outputs": [
    {
     "data": {
      "text/plain": [
       "{'B_检查和检验',\n",
       " 'B_疾病和诊断',\n",
       " 'B_症状和体征',\n",
       " 'B_身体部位',\n",
       " 'E_检查和检验',\n",
       " 'E_疾病和诊断',\n",
       " 'E_症状和体征',\n",
       " 'E_身体部位',\n",
       " 'I_疾病和诊断',\n",
       " 'I_症状和体征',\n",
       " 'I_身体部位',\n",
       " 'O',\n",
       " 'S_症状和体征',\n",
       " 'S_身体部位'}"
      ]
     },
     "execution_count": 145,
     "metadata": {},
     "output_type": "execute_result"
    }
   ],
   "source": [
    "chinese_labels = []\n",
    "for sent in train_sent:\n",
    "    for char,postag,label in sent:\n",
    "        chinese_labels.append(label)\n",
    "chinese_labels = set(chinese_labels)\n",
    "chinese_labels"
   ]
  },
  {
   "cell_type": "code",
   "execution_count": 224,
   "metadata": {},
   "outputs": [
    {
     "data": {
      "text/plain": [
       "'松动'"
      ]
     },
     "execution_count": 224,
     "metadata": {},
     "output_type": "execute_result"
    }
   ],
   "source": [
    "test = '患者全般及精神状况好，饮食及睡眠好，二便正常。诉牙齿松动。查体：前臂外伤结痂，无红肿。口腔内黏膜愈合，牙齿松动。'\n",
    "test[53:55]"
   ]
  },
  {
   "cell_type": "code",
   "execution_count": 225,
   "metadata": {},
   "outputs": [
    {
     "data": {
      "text/plain": [
       "['患',\n",
       " '者',\n",
       " '全',\n",
       " '般',\n",
       " '及',\n",
       " '精',\n",
       " '神',\n",
       " '状',\n",
       " '况',\n",
       " '好',\n",
       " '，',\n",
       " '饮',\n",
       " '食',\n",
       " '及',\n",
       " '睡',\n",
       " '眠',\n",
       " '好',\n",
       " '，',\n",
       " '二',\n",
       " '便',\n",
       " '正',\n",
       " '常',\n",
       " '。',\n",
       " '诉',\n",
       " '牙',\n",
       " '齿',\n",
       " '松',\n",
       " '动',\n",
       " '。',\n",
       " '查',\n",
       " '体',\n",
       " '：',\n",
       " '前',\n",
       " '臂',\n",
       " '外',\n",
       " '伤',\n",
       " '结',\n",
       " '痂',\n",
       " '，',\n",
       " '无',\n",
       " '红',\n",
       " '肿',\n",
       " '。',\n",
       " '口',\n",
       " '腔',\n",
       " '内',\n",
       " '黏',\n",
       " '膜',\n",
       " '愈',\n",
       " '合',\n",
       " '，',\n",
       " '牙',\n",
       " '齿',\n",
       " '松',\n",
       " '动',\n",
       " '。']"
      ]
     },
     "execution_count": 225,
     "metadata": {},
     "output_type": "execute_result"
    }
   ],
   "source": [
    "[c for c in test]"
   ]
  },
  {
   "cell_type": "code",
   "execution_count": null,
   "metadata": {
    "collapsed": true
   },
   "outputs": [],
   "source": []
  }
 ],
 "metadata": {
  "kernelspec": {
   "display_name": "Python 3",
   "language": "python",
   "name": "python3"
  },
  "language_info": {
   "codemirror_mode": {
    "name": "ipython",
    "version": 3
   },
   "file_extension": ".py",
   "mimetype": "text/x-python",
   "name": "python",
   "nbconvert_exporter": "python",
   "pygments_lexer": "ipython3",
   "version": "3.6.3"
  }
 },
 "nbformat": 4,
 "nbformat_minor": 2
}
